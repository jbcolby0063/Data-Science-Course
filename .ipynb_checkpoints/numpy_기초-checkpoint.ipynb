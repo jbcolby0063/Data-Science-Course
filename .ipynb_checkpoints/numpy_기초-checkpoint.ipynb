{
 "cells": [
  {
   "cell_type": "code",
   "execution_count": 1,
   "id": "587b8024",
   "metadata": {},
   "outputs": [],
   "source": [
    "import numpy as np"
   ]
  },
  {
   "cell_type": "code",
   "execution_count": 2,
   "id": "ce7bd268",
   "metadata": {},
   "outputs": [],
   "source": [
    "array1 = np.array([2, 3, 5, 7, 11, 13, 17, 19, 23, 29, 31])"
   ]
  },
  {
   "cell_type": "code",
   "execution_count": 3,
   "id": "8ae95d1e",
   "metadata": {},
   "outputs": [
    {
     "data": {
      "text/plain": [
       "array([ 2,  3,  5,  7, 11, 13, 17, 19, 23, 29, 31])"
      ]
     },
     "execution_count": 3,
     "metadata": {},
     "output_type": "execute_result"
    }
   ],
   "source": [
    "array1"
   ]
  },
  {
   "cell_type": "code",
   "execution_count": 4,
   "id": "e4bf6c79",
   "metadata": {},
   "outputs": [
    {
     "name": "stdout",
     "output_type": "stream",
     "text": [
      "[ 2  3  5  7 11 13 17 19 23 29 31]\n"
     ]
    }
   ],
   "source": [
    "print(array1)"
   ]
  },
  {
   "cell_type": "code",
   "execution_count": 5,
   "id": "b1cba308",
   "metadata": {},
   "outputs": [
    {
     "data": {
      "text/plain": [
       "numpy.ndarray"
      ]
     },
     "execution_count": 5,
     "metadata": {},
     "output_type": "execute_result"
    }
   ],
   "source": [
    "type(array1)"
   ]
  },
  {
   "cell_type": "code",
   "execution_count": 6,
   "id": "34073e79",
   "metadata": {},
   "outputs": [
    {
     "data": {
      "text/plain": [
       "(11,)"
      ]
     },
     "execution_count": 6,
     "metadata": {},
     "output_type": "execute_result"
    }
   ],
   "source": [
    "array1.shape"
   ]
  },
  {
   "cell_type": "code",
   "execution_count": 7,
   "id": "5d297365",
   "metadata": {},
   "outputs": [],
   "source": [
    "array2 = np.array([[1, 2, 3, 4], [5, 6, 7, 8], [9, 10, 11, 12]])\n",
    "# note [[], [], []] -> 2d list"
   ]
  },
  {
   "cell_type": "code",
   "execution_count": 8,
   "id": "8782e06c",
   "metadata": {},
   "outputs": [
    {
     "data": {
      "text/plain": [
       "array([[ 1,  2,  3,  4],\n",
       "       [ 5,  6,  7,  8],\n",
       "       [ 9, 10, 11, 12]])"
      ]
     },
     "execution_count": 8,
     "metadata": {},
     "output_type": "execute_result"
    }
   ],
   "source": [
    "array2"
   ]
  },
  {
   "cell_type": "code",
   "execution_count": 9,
   "id": "15973027",
   "metadata": {},
   "outputs": [
    {
     "data": {
      "text/plain": [
       "(3, 4)"
      ]
     },
     "execution_count": 9,
     "metadata": {},
     "output_type": "execute_result"
    }
   ],
   "source": [
    "array2.shape"
   ]
  },
  {
   "cell_type": "code",
   "execution_count": 10,
   "id": "610b4137",
   "metadata": {},
   "outputs": [
    {
     "data": {
      "text/plain": [
       "11"
      ]
     },
     "execution_count": 10,
     "metadata": {},
     "output_type": "execute_result"
    }
   ],
   "source": [
    "array1.size"
   ]
  },
  {
   "cell_type": "code",
   "execution_count": 11,
   "id": "7e5f2c0a",
   "metadata": {},
   "outputs": [
    {
     "data": {
      "text/plain": [
       "12"
      ]
     },
     "execution_count": 11,
     "metadata": {},
     "output_type": "execute_result"
    }
   ],
   "source": [
    "array2.size"
   ]
  },
  {
   "cell_type": "code",
   "execution_count": 12,
   "id": "94eece31",
   "metadata": {},
   "outputs": [
    {
     "name": "stdout",
     "output_type": "stream",
     "text": [
      "[7 7 7 7 7 7]\n"
     ]
    }
   ],
   "source": [
    "array3 = np.full(6, 7)\n",
    "print(array3)"
   ]
  },
  {
   "cell_type": "code",
   "execution_count": 13,
   "id": "060f73dd",
   "metadata": {},
   "outputs": [
    {
     "name": "stdout",
     "output_type": "stream",
     "text": [
      "[0 0 0 0 0 0]\n"
     ]
    }
   ],
   "source": [
    "array4 = np.zeros(6, dtype=int)\n",
    "print(array4)"
   ]
  },
  {
   "cell_type": "code",
   "execution_count": 14,
   "id": "fcba4083",
   "metadata": {},
   "outputs": [
    {
     "name": "stdout",
     "output_type": "stream",
     "text": [
      "[1 1 1 1 1 1]\n"
     ]
    }
   ],
   "source": [
    "array5 = np.ones(6, dtype=int)\n",
    "print(array5)"
   ]
  },
  {
   "cell_type": "code",
   "execution_count": 15,
   "id": "4f06d1d2",
   "metadata": {},
   "outputs": [
    {
     "name": "stdout",
     "output_type": "stream",
     "text": [
      "[0.52923741 0.20463189 0.18700385 0.64433611 0.39695256 0.17182279]\n"
     ]
    }
   ],
   "source": [
    "array6 = np.random.random(6)\n",
    "print(array6)"
   ]
  },
  {
   "cell_type": "code",
   "execution_count": 16,
   "id": "dee1abc4",
   "metadata": {},
   "outputs": [
    {
     "name": "stdout",
     "output_type": "stream",
     "text": [
      "[0 1 2 3 4 5]\n"
     ]
    }
   ],
   "source": [
    "array7 = np.arange(6)\n",
    "print(array7)"
   ]
  },
  {
   "cell_type": "code",
   "execution_count": 17,
   "id": "f9fecc67",
   "metadata": {},
   "outputs": [
    {
     "name": "stdout",
     "output_type": "stream",
     "text": [
      "[2 3 4 5 6]\n"
     ]
    }
   ],
   "source": [
    "array8 = np.arange(2, 7)\n",
    "print(array8)"
   ]
  },
  {
   "cell_type": "code",
   "execution_count": 18,
   "id": "49381fb2",
   "metadata": {},
   "outputs": [
    {
     "name": "stdout",
     "output_type": "stream",
     "text": [
      "[2 4 6]\n"
     ]
    }
   ],
   "source": [
    "array9 = np.arange(2, 7, 2)\n",
    "print(array9)"
   ]
  },
  {
   "cell_type": "code",
   "execution_count": 19,
   "id": "a4bcb922",
   "metadata": {},
   "outputs": [
    {
     "name": "stdout",
     "output_type": "stream",
     "text": [
      "7\n",
      "9\n",
      "[7 8]\n",
      "[2 7 9]\n",
      "\n",
      "[2 3 8]\n",
      "[2 3 8]\n"
     ]
    }
   ],
   "source": [
    "array10 = np.array([2, 3, 7, 8, 9])\n",
    "print(array10[2])\n",
    "print(array10[-1])\n",
    "print(array10[2:4])\n",
    "print(array10[0:5:2])\n",
    "print()\n",
    "\n",
    "print(array10[[0, 1, 3]])\n",
    "array11 = np.array([0, 1, 3])\n",
    "print(array10[array11])"
   ]
  },
  {
   "cell_type": "code",
   "execution_count": 20,
   "id": "260fbb22",
   "metadata": {},
   "outputs": [
    {
     "name": "stdout",
     "output_type": "stream",
     "text": [
      "[0 1 2 3 4 5 6 7 8 9]\n",
      "[ 0  2  4  6  8 10 12 14 16 18]\n",
      "[0.  0.5 1.  1.5 2.  2.5 3.  3.5 4.  4.5]\n",
      "[ 2  3  4  5  6  7  8  9 10 11]\n",
      "[ 0  1  4  9 16 25 36 49 64 81]\n",
      "\n",
      "[0 1 2 3 4 5 6 7 8 9]\n",
      "[10 11 12 13 14 15 16 17 18 19]\n",
      "[10 12 14 16 18 20 22 24 26 28]\n",
      "[  0  11  24  39  56  75  96 119 144 171]\n",
      "[0.         0.09090909 0.16666667 0.23076923 0.28571429 0.33333333\n",
      " 0.375      0.41176471 0.44444444 0.47368421]\n"
     ]
    }
   ],
   "source": [
    "array12 = np.arange(10)\n",
    "print(array12)\n",
    "print(array12 * 2)\n",
    "print(array12 / 2)\n",
    "print(array12 + 2)\n",
    "print(array12 ** 2)\n",
    "print()\n",
    "\n",
    "print(array12)\n",
    "array13 = np.arange(10, 20)\n",
    "print(array13)\n",
    "print(array12 + array13)\n",
    "print(array12 * array13)\n",
    "print(array12 / array13)"
   ]
  },
  {
   "cell_type": "code",
   "execution_count": 21,
   "id": "cb2f85d3",
   "metadata": {},
   "outputs": [
    {
     "name": "stdout",
     "output_type": "stream",
     "text": [
      "[False False  True  True  True  True  True  True  True  True  True]\n",
      "[ True False False False False False False False False False False]\n",
      "\n",
      "(array([0, 1, 4]),)\n",
      "(array([ 2,  3,  4,  5,  6,  7,  8,  9, 10]),)\n",
      "[ 5  7 11 13 17 19 23 29 31]\n",
      "[ 5  7 11 13 17 19 23 29 31]\n"
     ]
    }
   ],
   "source": [
    "array14 = np.array([2, 3, 5, 7, 11, 13, 17, 19, 23, 29, 31])\n",
    "print(array14 > 4)\n",
    "print(array14 % 2 == 0)\n",
    "print()\n",
    "\n",
    "# where = get index of True\n",
    "booleans = np.array([True, True, False, False, True, False])\n",
    "print(np.where(booleans))\n",
    "\n",
    "filter = np.where(array14 > 4)\n",
    "print(filter)\n",
    "print(array14[filter])\n",
    "print(array14[array14 > 4])"
   ]
  },
  {
   "cell_type": "code",
   "execution_count": 22,
   "id": "c4d16c61",
   "metadata": {},
   "outputs": [
    {
     "name": "stdout",
     "output_type": "stream",
     "text": [
      "31\n",
      "5\n",
      "15.25\n",
      "13.5\n",
      "8.496322733983215\n",
      "72.1875\n"
     ]
    }
   ],
   "source": [
    "array15 = np.array([14, 6, 13, 21, 23, 31, 9, 5])\n",
    "\n",
    "print(array15.max())\n",
    "print(array15.min())\n",
    "print(array15.mean())\n",
    "print(np.median(array15))\n",
    "print(array15.std())\n",
    "print(array15.var())"
   ]
  }
 ],
 "metadata": {
  "kernelspec": {
   "display_name": "Python 3",
   "language": "python",
   "name": "python3"
  },
  "language_info": {
   "codemirror_mode": {
    "name": "ipython",
    "version": 3
   },
   "file_extension": ".py",
   "mimetype": "text/x-python",
   "name": "python",
   "nbconvert_exporter": "python",
   "pygments_lexer": "ipython3",
   "version": "3.8.8"
  }
 },
 "nbformat": 4,
 "nbformat_minor": 5
}
