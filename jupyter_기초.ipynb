{
 "cells": [
  {
   "cell_type": "code",
   "execution_count": 1,
   "id": "64ce49b1",
   "metadata": {},
   "outputs": [],
   "source": [
    "# Jupyter commands\n",
    "# a: insert cell above\n",
    "# b: insert cell below\n",
    "# dd: delete cell\n",
    "# ctrl + Enter: run\n",
    "# shift + Enter: run & add cell below\n",
    "# Enter: command -> edit\n",
    "# esc: edit -> command"
   ]
  },
  {
   "cell_type": "code",
   "execution_count": 2,
   "id": "ca78e6ba",
   "metadata": {},
   "outputs": [
    {
     "name": "stdout",
     "output_type": "stream",
     "text": [
      "5\n"
     ]
    }
   ],
   "source": [
    "x = 5\n",
    "print(x)\n",
    "\n",
    "y = 17"
   ]
  },
  {
   "cell_type": "code",
   "execution_count": 3,
   "id": "6a8c7c6f",
   "metadata": {
    "scrolled": true
   },
   "outputs": [
    {
     "name": "stdout",
     "output_type": "stream",
     "text": [
      "5\n"
     ]
    }
   ],
   "source": [
    "print(x)"
   ]
  },
  {
   "cell_type": "code",
   "execution_count": 4,
   "id": "d2311f8e",
   "metadata": {},
   "outputs": [
    {
     "data": {
      "text/plain": [
       "17"
      ]
     },
     "execution_count": 4,
     "metadata": {},
     "output_type": "execute_result"
    }
   ],
   "source": [
    "y"
   ]
  },
  {
   "cell_type": "code",
   "execution_count": 5,
   "id": "d7956b8b",
   "metadata": {},
   "outputs": [
    {
     "data": {
      "text/plain": [
       "7"
      ]
     },
     "execution_count": 5,
     "metadata": {},
     "output_type": "execute_result"
    }
   ],
   "source": [
    "2 + 5"
   ]
  },
  {
   "cell_type": "code",
   "execution_count": 6,
   "id": "03647eb8",
   "metadata": {},
   "outputs": [
    {
     "name": "stdout",
     "output_type": "stream",
     "text": [
      "5\n",
      "12\n"
     ]
    },
    {
     "data": {
      "text/plain": [
       "12"
      ]
     },
     "execution_count": 6,
     "metadata": {},
     "output_type": "execute_result"
    }
   ],
   "source": [
    "2 + 5\n",
    "x\n",
    "print(x)\n",
    "print(3 * 4)\n",
    "3 * 4"
   ]
  },
  {
   "cell_type": "markdown",
   "id": "bebe9484",
   "metadata": {},
   "source": [
    "# 가장 큰 제목\n",
    "## 두 번째 큰 제목\n",
    "### 세 번째 큰 제목\n",
    "\n",
    "이렇게 글을 작성할 수 있습니다"
   ]
  },
  {
   "cell_type": "markdown",
   "id": "edeb3dd6",
   "metadata": {},
   "source": [
    "글을 **두껍게** 쓸 수도 있고, *날려* 쓸 수도 있습니다. 또 ~취소선~도 가능합니다."
   ]
  },
  {
   "cell_type": "markdown",
   "id": "3f1f0a17",
   "metadata": {},
   "source": [
    "이렇게 리스트를 쓸 수도 있죠!\n",
    "* list 1\n",
    "* list 2\n",
    "* list 3"
   ]
  },
  {
   "cell_type": "markdown",
   "id": "8919c4a2",
   "metadata": {},
   "source": [
    "번호로도 리스트 작성이 가능합니다!\n",
    "1. list 1\n",
    "2. list 2\n",
    "3. list 3"
   ]
  },
  {
   "cell_type": "markdown",
   "id": "2b955bdf",
   "metadata": {},
   "source": [
    "줄 바꿈: Space키 두번\n",
    "\n",
    "경찰청 철창살은 외철창살이냐 쌍철창살이냐?  \n",
    "내가 그린 기린 그림은 잘 그린 기린 그림이고 네가 그린 기린 그림은 잘 못 그린 기린 그림이다.  \n",
    "신인 샹송 가수의 신춘 샹송 쇼.  \n"
   ]
  },
  {
   "cell_type": "markdown",
   "id": "385a4430",
   "metadata": {},
   "source": [
    "링크: \\[ \\]( )\n",
    "\n",
    "코딩 강의는 역시 [코드잇](https://www.codeit.kr)이죠!"
   ]
  },
  {
   "cell_type": "markdown",
   "id": "c5742653",
   "metadata": {},
   "source": [
    "이미지: !\\[ \\]( )\n",
    "\n",
    "![코드잇](https://www.codeit.kr/static/images/brand/logo_original.png) "
   ]
  },
  {
   "cell_type": "markdown",
   "id": "c8d58ba1",
   "metadata": {},
   "source": [
    "코드블록:\n",
    "\n",
    "```python\n",
    "print('hello world!')\n",
    "for i in range(10):\n",
    "    print(i)\n",
    "```"
   ]
  },
  {
   "cell_type": "markdown",
   "id": "9c538bc0",
   "metadata": {},
   "source": [
    "인라인 코드:\n",
    "\n",
    "값을 출력하고 싶으면 `print` 함수를 사용하면 되겠죠?"
   ]
  },
  {
   "cell_type": "markdown",
   "id": "67f0cd1d",
   "metadata": {},
   "source": [
    "구분 선 위\n",
    "\n",
    "---\n",
    "\n",
    "구분 선 아래\n"
   ]
  }
 ],
 "metadata": {
  "kernelspec": {
   "display_name": "Python 3 (ipykernel)",
   "language": "python",
   "name": "python3"
  },
  "language_info": {
   "codemirror_mode": {
    "name": "ipython",
    "version": 3
   },
   "file_extension": ".py",
   "mimetype": "text/x-python",
   "name": "python",
   "nbconvert_exporter": "python",
   "pygments_lexer": "ipython3",
   "version": "3.8.18"
  }
 },
 "nbformat": 4,
 "nbformat_minor": 5
}
